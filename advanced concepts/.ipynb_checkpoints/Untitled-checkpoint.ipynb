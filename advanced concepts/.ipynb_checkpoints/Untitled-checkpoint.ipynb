{
 "cells": [
  {
   "cell_type": "code",
   "execution_count": 1,
   "id": "bfda9ef6-1135-49eb-a5d3-2a378b1c4209",
   "metadata": {},
   "outputs": [
    {
     "data": {
      "text/plain": [
       "'/home/saidg'"
      ]
     },
     "execution_count": 1,
     "metadata": {},
     "output_type": "execute_result"
    }
   ],
   "source": [
    "import os\n",
    "os.getcwd()\n"
   ]
  },
  {
   "cell_type": "code",
   "execution_count": 2,
   "id": "1dc04afa-52b1-48cc-aa8f-bd62f3fe88fc",
   "metadata": {},
   "outputs": [
    {
     "name": "stdout",
     "output_type": "stream",
     "text": [
      "Collecting mysql-connector-python\n",
      "  Downloading mysql_connector_python-8.0.30-cp39-cp39-manylinux1_x86_64.whl (25.4 MB)\n",
      "\u001b[K     |████████████████████████████████| 25.4 MB 4.2 MB/s eta 0:00:01\n",
      "\u001b[?25hRequirement already satisfied: protobuf<=3.20.1,>=3.11.0 in ./anaconda3/lib/python3.9/site-packages (from mysql-connector-python) (3.19.1)\n",
      "Installing collected packages: mysql-connector-python\n",
      "Successfully installed mysql-connector-python-8.0.30\n",
      "Note: you may need to restart the kernel to use updated packages.\n"
     ]
    }
   ],
   "source": [
    "pip install mysql-connector-python"
   ]
  },
  {
   "cell_type": "code",
   "execution_count": 4,
   "id": "eca80eb0-19b9-4d68-bad0-b17c3b6ca893",
   "metadata": {},
   "outputs": [
    {
     "name": "stdout",
     "output_type": "stream",
     "text": [
      "connected to mysql server version  8.0.30\n",
      "You're conneted to database:  ('Assignment',)\n",
      "MySQL connection is closed\n"
     ]
    }
   ],
   "source": [
    "import mysql.connector\n",
    "from mysql.connector import Error\n",
    "\n",
    "\n",
    "try: \n",
    "    connection = mysql.connector.connect(host='localhost', database='Assignment', user='dharaneesh', password='Dharaneesh@264')\n",
    "    if connection.is_connected():\n",
    "        db_info = connection.get_server_info()\n",
    "        print('connected to mysql server version ', db_info)\n",
    "        cursor = connection.cursor()\n",
    "        cursor.execute('select database();')\n",
    "        record = cursor.fetchone()\n",
    "        print(\"You're conneted to database: \", record)\n",
    "        \n",
    "        \n",
    "except Error as e:\n",
    "    print(\"Error while connecting to MySQL\", e)\n",
    "finally:\n",
    "    if connection.is_connected():\n",
    "        cursor.close()\n",
    "        connection.close()\n",
    "        print('MySQL connection is closed')"
   ]
  },
  {
   "cell_type": "code",
   "execution_count": 6,
   "id": "7282e449-a997-4812-935c-5010299c5b6c",
   "metadata": {},
   "outputs": [],
   "source": [
    "import os\n",
    "os.mkdir('abc123')\n"
   ]
  },
  {
   "cell_type": "code",
   "execution_count": 7,
   "id": "ddeece8c-1adf-4617-b62b-b48a47df7e34",
   "metadata": {},
   "outputs": [
    {
     "data": {
      "text/plain": [
       "'/home/saidg'"
      ]
     },
     "execution_count": 7,
     "metadata": {},
     "output_type": "execute_result"
    }
   ],
   "source": [
    "os.getcwd()\n"
   ]
  },
  {
   "cell_type": "code",
   "execution_count": 8,
   "id": "1212e07a-fd0c-47b2-ac1d-2a238e65a8c4",
   "metadata": {},
   "outputs": [
    {
     "name": "stdout",
     "output_type": "stream",
     "text": [
      " \u001b[0m\u001b[01;34mabc\u001b[0m/         \u001b[01;34mDownloads\u001b[0m/               IMDB.mwb            \u001b[01;31mPython-3.10.7.tgz\u001b[0m\n",
      " \u001b[01;34mabc123\u001b[0m/      E-Commerce.mwb           \u001b[01;34mMusic\u001b[0m/              \u001b[01;34mRestaurantBilling\u001b[0m/\n",
      " abc.sh       E-Commerce.mwb.bak       package-lock.json   \u001b[01;34msnap\u001b[0m/\n",
      " \u001b[01;34manaconda3\u001b[0m/   get-pip.py               \u001b[01;34mPictures\u001b[0m/           \u001b[01;34mTemplates\u001b[0m/\n",
      " cypress     'Hotel Booking.mwb'       \u001b[01;34mPublic\u001b[0m/             Untitled.ipynb\n",
      " \u001b[01;34mDesktop\u001b[0m/    'Hotel Booking.mwb.bak'   \u001b[01;34mPycharmProjects\u001b[0m/    \u001b[01;34mVideos\u001b[0m/\n",
      " \u001b[01;34mDocuments\u001b[0m/   \u001b[01;34mIdeaProjects\u001b[0m/            \u001b[01;34mPython-3.10.7\u001b[0m/\n"
     ]
    }
   ],
   "source": [
    "ls\n"
   ]
  },
  {
   "cell_type": "code",
   "execution_count": 9,
   "id": "aec6c74e-bb5e-417d-8a58-264b8baf6b9f",
   "metadata": {},
   "outputs": [],
   "source": [
    "rmdir abc123\n"
   ]
  },
  {
   "cell_type": "code",
   "execution_count": 10,
   "id": "5b169124-3f04-46f6-bd03-afc9132ba7b5",
   "metadata": {},
   "outputs": [
    {
     "name": "stdout",
     "output_type": "stream",
     "text": [
      "/home/saidg/Desktop/python-course/advanced concepts\n"
     ]
    }
   ],
   "source": [
    "cd Desktop/python-course/advanced\\ concepts\n"
   ]
  },
  {
   "cell_type": "code",
   "execution_count": 11,
   "id": "66331a0c-e6ad-43ba-b68c-6641f43c1946",
   "metadata": {},
   "outputs": [
    {
     "data": {
      "text/plain": [
       "'/home/saidg/Desktop/python-course/advanced concepts'"
      ]
     },
     "execution_count": 11,
     "metadata": {},
     "output_type": "execute_result"
    }
   ],
   "source": [
    "os.getcwd()"
   ]
  },
  {
   "cell_type": "code",
   "execution_count": 21,
   "id": "70041d79-5a58-43a7-808d-e1bbd2678fd0",
   "metadata": {},
   "outputs": [
    {
     "name": "stdout",
     "output_type": "stream",
     "text": [
      "name: sai dharaneesh\n",
      "age: 24\n"
     ]
    }
   ],
   "source": [
    "## important points ###\n",
    "import argparse\n",
    "\n",
    "parser = argparse.ArgumentParser()\n",
    "parser.add_argument('--name', required=True, type=str, help=\"enter the name?\")\n",
    "parser.add_argument('--age', required=True, type=int, help=\"enter age\")\n",
    "args = parser.parse_args(['--name=sai dharaneesh', '--age=24'])\n",
    "print('name:', args.name)\n",
    "print('age:', args.age)"
   ]
  },
  {
   "cell_type": "code",
   "execution_count": 24,
   "id": "51efeb29-c71f-41dc-9c57-7b5422822a1a",
   "metadata": {},
   "outputs": [
    {
     "name": "stdout",
     "output_type": "stream",
     "text": [
      "Entering init\n",
      "Entering exit\n"
     ]
    }
   ],
   "source": [
    "## context managers ##\n",
    "from pathlib import Path\n",
    "\n",
    "class TempFile:\n",
    "    def __init__(self, filename=None):\n",
    "        if not filename:\n",
    "            from random import sample\n",
    "            from string import ascii_letters\n",
    "            filename = ''.join(sample(ascii_letters, 15))\n",
    "        self.file = Path(filename)\n",
    "    def __enter__(self):\n",
    "        print(\"Entering init\")\n",
    "        self.file.parent.mkdir(parents=True, exist_ok=True)\n",
    "        if self.file.exists():\n",
    "            self.file.unlink()\n",
    "        self.file.touch()\n",
    "        return self.file.open('w')\n",
    "    \n",
    "    def __exit__(self, *args):\n",
    "        print('Entering exit')\n",
    "        self.file.unlink()\n",
    "            \n",
    "with TempFile() as tf:\n",
    "    tf.write('This is the test!\\nThis file will be gone soon')\n",
    "    tf.flush()\n",
    "    import time\n",
    "    time.sleep(20)"
   ]
  },
  {
   "cell_type": "code",
   "execution_count": 10,
   "id": "fbe5a856-349d-4b7c-95d2-f5806ffa4c03",
   "metadata": {},
   "outputs": [
    {
     "name": "stdout",
     "output_type": "stream",
     "text": [
      "140075599977984\n"
     ]
    }
   ],
   "source": [
    "a = [1, 2, 4]\n",
    "print(id(a))\n",
    "# print()\n",
    "b = list(map(lambda n: n * 2, a))\n",
    "# id(a)"
   ]
  },
  {
   "cell_type": "code",
   "execution_count": null,
   "id": "1f79c0bf-d76c-43f6-8c87-1553a3fe37b9",
   "metadata": {},
   "outputs": [],
   "source": []
  }
 ],
 "metadata": {
  "kernelspec": {
   "display_name": "Python 3 (ipykernel)",
   "language": "python",
   "name": "python3"
  },
  "language_info": {
   "codemirror_mode": {
    "name": "ipython",
    "version": 3
   },
   "file_extension": ".py",
   "mimetype": "text/x-python",
   "name": "python",
   "nbconvert_exporter": "python",
   "pygments_lexer": "ipython3",
   "version": "3.9.12"
  }
 },
 "nbformat": 4,
 "nbformat_minor": 5
}
