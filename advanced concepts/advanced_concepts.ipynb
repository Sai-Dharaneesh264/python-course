{
 "cells": [
  {
   "cell_type": "code",
   "execution_count": 1,
   "id": "bfda9ef6-1135-49eb-a5d3-2a378b1c4209",
   "metadata": {},
   "outputs": [
    {
     "data": {
      "text/plain": [
       "'/home/saidg/Desktop/python-course/advanced concepts'"
      ]
     },
     "execution_count": 1,
     "metadata": {},
     "output_type": "execute_result"
    }
   ],
   "source": [
    "import os\n",
    "os.getcwd()\n"
   ]
  },
  {
   "cell_type": "code",
   "execution_count": 2,
   "id": "1dc04afa-52b1-48cc-aa8f-bd62f3fe88fc",
   "metadata": {},
   "outputs": [
    {
     "name": "stdout",
     "output_type": "stream",
     "text": [
      "Requirement already satisfied: mysql-connector-python in /home/saidg/anaconda3/lib/python3.9/site-packages (8.0.30)\n",
      "Requirement already satisfied: protobuf<=3.20.1,>=3.11.0 in /home/saidg/anaconda3/lib/python3.9/site-packages (from mysql-connector-python) (3.19.1)\n",
      "Note: you may need to restart the kernel to use updated packages.\n"
     ]
    }
   ],
   "source": [
    "pip install mysql-connector-python"
   ]
  },
  {
   "cell_type": "code",
   "execution_count": 3,
   "id": "eca80eb0-19b9-4d68-bad0-b17c3b6ca893",
   "metadata": {},
   "outputs": [
    {
     "name": "stdout",
     "output_type": "stream",
     "text": [
      "connected to mysql server version  8.0.30\n",
      "You're conneted to database:  ('Assignment',)\n",
      "MySQL connection is closed\n"
     ]
    }
   ],
   "source": [
    "import mysql.connector\n",
    "from mysql.connector import Error\n",
    "\n",
    "\n",
    "try: \n",
    "    connection = mysql.connector.connect(host='localhost', database='Assignment', user='dharaneesh', password='Dharaneesh@264')\n",
    "    if connection.is_connected():\n",
    "        db_info = connection.get_server_info()\n",
    "        print('connected to mysql server version ', db_info)\n",
    "        cursor = connection.cursor()\n",
    "        cursor.execute('select database();')\n",
    "        record = cursor.fetchone()\n",
    "        print(\"You're conneted to database: \", record)\n",
    "        \n",
    "        \n",
    "except Error as e:\n",
    "    print(\"Error while connecting to MySQL\", e)\n",
    "finally:\n",
    "    if connection.is_connected():\n",
    "        cursor.close()\n",
    "        connection.close()\n",
    "        print('MySQL connection is closed')"
   ]
  },
  {
   "cell_type": "code",
   "execution_count": 4,
   "id": "7282e449-a997-4812-935c-5010299c5b6c",
   "metadata": {},
   "outputs": [],
   "source": [
    "import os\n",
    "os.mkdir('abc123')\n"
   ]
  },
  {
   "cell_type": "code",
   "execution_count": 5,
   "id": "ddeece8c-1adf-4617-b62b-b48a47df7e34",
   "metadata": {},
   "outputs": [
    {
     "data": {
      "text/plain": [
       "'/home/saidg/Desktop/python-course/advanced concepts'"
      ]
     },
     "execution_count": 5,
     "metadata": {},
     "output_type": "execute_result"
    }
   ],
   "source": [
    "os.getcwd()\n"
   ]
  },
  {
   "cell_type": "code",
   "execution_count": 6,
   "id": "1212e07a-fd0c-47b2-ac1d-2a238e65a8c4",
   "metadata": {},
   "outputs": [
    {
     "name": "stdout",
     "output_type": "stream",
     "text": [
      " \u001b[0m\u001b[01;34mabc123\u001b[0m/                         __init__.py\n",
      " abc.txt                        \u001b[01;34m'intro to argument parsing using argparse'\u001b[0m/\n",
      " \u001b[01;34mcollection\u001b[0m/                    \u001b[01;34m'iterators and generators'\u001b[0m/\n",
      "\u001b[01;34m'context managers'\u001b[0m/              \u001b[01;34mitertools\u001b[0m/\n",
      " \u001b[01;34mdatabases\u001b[0m/                     \u001b[01;34m'python built-ins'\u001b[0m/\n",
      " \u001b[01;34mdescriptors\u001b[0m/                   \u001b[01;34m'regular expression'\u001b[0m/\n",
      "\u001b[01;34m'encryption and cryptography'\u001b[0m/   \u001b[01;34mscope\u001b[0m/\n",
      " \u001b[01;34mfiles\u001b[0m/                          \u001b[01;34mserialization\u001b[0m/\n",
      " \u001b[01;34mfunctools\u001b[0m/                     \u001b[01;34m'super built-in'\u001b[0m/\n",
      " \u001b[01;34mimportlib\u001b[0m/                      Untitled.ipynb\n",
      " \u001b[01;34mimports\u001b[0m/                       \u001b[01;34m'web scraping'\u001b[0m/\n"
     ]
    }
   ],
   "source": [
    "ls\n"
   ]
  },
  {
   "cell_type": "code",
   "execution_count": 7,
   "id": "aec6c74e-bb5e-417d-8a58-264b8baf6b9f",
   "metadata": {},
   "outputs": [],
   "source": [
    "rmdir abc123\n"
   ]
  },
  {
   "cell_type": "code",
   "execution_count": 8,
   "id": "5b169124-3f04-46f6-bd03-afc9132ba7b5",
   "metadata": {},
   "outputs": [
    {
     "name": "stdout",
     "output_type": "stream",
     "text": [
      "[Errno 2] No such file or directory: 'Desktop/python-course/advanced concepts'\n",
      "/home/saidg/Desktop/python-course/advanced concepts\n"
     ]
    }
   ],
   "source": [
    "cd Desktop/python-course/advanced\\ concepts\n"
   ]
  },
  {
   "cell_type": "code",
   "execution_count": 9,
   "id": "66331a0c-e6ad-43ba-b68c-6641f43c1946",
   "metadata": {},
   "outputs": [
    {
     "data": {
      "text/plain": [
       "'/home/saidg/Desktop/python-course/advanced concepts'"
      ]
     },
     "execution_count": 9,
     "metadata": {},
     "output_type": "execute_result"
    }
   ],
   "source": [
    "os.getcwd()"
   ]
  },
  {
   "cell_type": "code",
   "execution_count": 10,
   "id": "70041d79-5a58-43a7-808d-e1bbd2678fd0",
   "metadata": {},
   "outputs": [
    {
     "name": "stdout",
     "output_type": "stream",
     "text": [
      "name: sai dharaneesh\n",
      "age: 24\n"
     ]
    }
   ],
   "source": [
    "## important points ###\n",
    "import argparse\n",
    "\n",
    "parser = argparse.ArgumentParser()\n",
    "parser.add_argument('--name', required=True, type=str, help=\"enter the name?\")\n",
    "parser.add_argument('--age', required=True, type=int, help=\"enter age\")\n",
    "args = parser.parse_args(['--name=sai dharaneesh', '--age=24'])\n",
    "print('name:', args.name)\n",
    "print('age:', args.age)"
   ]
  },
  {
   "cell_type": "code",
   "execution_count": null,
   "id": "51efeb29-c71f-41dc-9c57-7b5422822a1a",
   "metadata": {},
   "outputs": [
    {
     "name": "stdout",
     "output_type": "stream",
     "text": [
      "Entering init\n"
     ]
    }
   ],
   "source": [
    "## context managers ##\n",
    "from pathlib import Path\n",
    "\n",
    "class TempFile:\n",
    "    def __init__(self, filename=None):\n",
    "        if not filename:\n",
    "            from random import sample\n",
    "            from string import ascii_letters\n",
    "            filename = ''.join(sample(ascii_letters, 15))\n",
    "        self.file = Path(filename)\n",
    "    def __enter__(self):\n",
    "        print(\"Entering init\")\n",
    "        self.file.parent.mkdir(parents=True, exist_ok=True)\n",
    "        if self.file.exists():\n",
    "            self.file.unlink()\n",
    "        self.file.touch()\n",
    "        return self.file.open('w')\n",
    "    \n",
    "    def __exit__(self, *args):\n",
    "        print('Entering exit')\n",
    "        self.file.unlink()\n",
    "            \n",
    "with TempFile() as tf:\n",
    "    tf.write('This is the test!\\nThis file will be gone soon')\n",
    "    tf.flush()\n",
    "    import time\n",
    "    time.sleep(20)"
   ]
  },
  {
   "cell_type": "code",
   "execution_count": null,
   "id": "fbe5a856-349d-4b7c-95d2-f5806ffa4c03",
   "metadata": {},
   "outputs": [],
   "source": [
    "a = [1, 2, 4]\n",
    "print(id(a))\n",
    "# print()\n",
    "b = list(map(lambda n: n * 2, a))\n",
    "# id(a)"
   ]
  },
  {
   "cell_type": "code",
   "execution_count": null,
   "id": "1f79c0bf-d76c-43f6-8c87-1553a3fe37b9",
   "metadata": {},
   "outputs": [],
   "source": [
    "### iterators and generators ###\n",
    "\n",
    "\n",
    "### custom iterators ###\n",
    "class MyIterator:\n",
    "    def __init__(self, letters):\n",
    "        self.letters = letters\n",
    "        self.pos = 0\n",
    "    \n",
    "    def __iter__(self):\n",
    "        return self\n",
    "    \n",
    "    def __next__(self):\n",
    "        if self.pos >= len(self.letters):\n",
    "            raise StopIteration\n",
    "        letter = self.letters[self.pos]\n",
    "        self.pos += 1\n",
    "        return letter\n",
    "\n",
    "if __name__ == '__main__':\n",
    "    i = MyIterator('abcd')\n",
    "    for item in i:\n",
    "        print(item)\n"
   ]
  },
  {
   "cell_type": "code",
   "execution_count": null,
   "id": "b4bb213c-b0bb-4b24-babf-25ad9c8e6ef5",
   "metadata": {},
   "outputs": [],
   "source": [
    "### generators ###\n",
    "\n",
    "def doubler_generator():\n",
    "    number = 2\n",
    "    while True:\n",
    "        yield number\n",
    "        number *= number\n",
    "\n",
    "doubler = doubler_generator()\n",
    "print(next(doubler))\n",
    "print(next(doubler))\n",
    "print(next(doubler))\n",
    "print(next(doubler))"
   ]
  },
  {
   "cell_type": "code",
   "execution_count": null,
   "id": "f6216963-8af2-44fd-ada9-dcc9512c6038",
   "metadata": {},
   "outputs": [],
   "source": [
    "def silly_generator():\n",
    "    yield \"Python\"\n",
    "    yield \"Rocks\"\n",
    "    yield \"So do you!\"\n",
    "gen = silly_generator()\n",
    "for item in gen:\n",
    "    print(item)"
   ]
  },
  {
   "cell_type": "code",
   "execution_count": null,
   "id": "a6d1ff61-5be8-4589-970a-f2c83de800df",
   "metadata": {},
   "outputs": [],
   "source": [
    "class Base:\n",
    "    var = 5\n",
    "    def __init__(self):\n",
    "        pass\n",
    "\n",
    "class X(Base):\n",
    "    def __init__(self):\n",
    "        print('X')\n",
    "        super().__init__()\n",
    "\n",
    "class Y(Base):\n",
    "    def __init__(self):\n",
    "        print('Y')\n",
    "        super().__init__()\n",
    "\n",
    "class Z(X, Y):\n",
    "    pass\n",
    "\n",
    "z = Z()\n",
    "print(Z.__mro__)\n",
    "print(z.var)\n",
    "    "
   ]
  },
  {
   "cell_type": "code",
   "execution_count": null,
   "id": "ef0136b6-66f9-4b23-abfd-fdeb74cf89e6",
   "metadata": {},
   "outputs": [],
   "source": [
    "class Base():\n",
    "    def __init__(self):\n",
    "        s = super()\n",
    "        print(s.__thisclass__)\n",
    "        print(s.__self_class__)\n",
    "        s.__init__()\n",
    "\n",
    "class SubClass(Base):\n",
    "    def __init__(self):\n",
    "        s = super()\n",
    "        print(\"--\",s.__thisclass__)\n",
    "        print(\"--\",s.__self_class__)\n",
    "        s.__init__()\n",
    "\n",
    "\n",
    "sub = SubClass()"
   ]
  },
  {
   "cell_type": "code",
   "execution_count": null,
   "id": "ddb0bfc0-7515-4903-8349-264e862d5997",
   "metadata": {},
   "outputs": [],
   "source": [
    "## iterators ###\n",
    "\n",
    "## count(start, step)\n",
    "## by default step is 1\n",
    "\n",
    "from itertools import count\n",
    "for i in count(10):\n",
    "    if i > 21:\n",
    "        break\n",
    "    else:\n",
    "        print(i)"
   ]
  },
  {
   "cell_type": "code",
   "execution_count": null,
   "id": "52fccf12-9d59-4a07-ab07-b6e582488a5b",
   "metadata": {},
   "outputs": [],
   "source": [
    "from itertools import islice\n",
    "\n",
    "for i in islice(count(10), 5):\n",
    "    print(i)"
   ]
  },
  {
   "cell_type": "code",
   "execution_count": null,
   "id": "09361457-c5f3-4992-a0d8-2331f0d33a94",
   "metadata": {},
   "outputs": [],
   "source": [
    "from itertools import cycle\n",
    "polys = ['triangle', 'square', 'pentagon', 'rectangle']\n",
    "iterator = cycle(polys)\n",
    "print (next(iterator))\n",
    "\n",
    "\n",
    "print (next(iterator))\n",
    "\n",
    "\n",
    "print (next(iterator))\n",
    "\n",
    "\n",
    "print (next(iterator))\n",
    "\n",
    "\n",
    "print (next(iterator))\n",
    "\n",
    "\n",
    "print (next(iterator))"
   ]
  },
  {
   "cell_type": "code",
   "execution_count": null,
   "id": "9ad22c31-d2c7-4a70-988c-89fc6849955d",
   "metadata": {},
   "outputs": [],
   "source": [
    "from itertools import repeat\n",
    "repeat(5, 5)\n",
    "repeat(5, 5)\n",
    "\n",
    "iterator = repeat(5, 5)\n",
    "print (next(iterator))\n",
    "\n",
    "\n",
    "print (next(iterator))\n",
    "\n",
    "\n",
    "print (next(iterator))\n",
    "\n",
    "\n",
    "print (next(iterator))\n",
    "\n",
    "\n",
    "print (next(iterator))\n",
    "\n",
    "\n",
    "# print (next(iterator))"
   ]
  },
  {
   "cell_type": "code",
   "execution_count": null,
   "id": "24e700d6-6f95-497e-b8b4-6ff10650b5a6",
   "metadata": {},
   "outputs": [],
   "source": [
    "### decorators ###\n",
    "class MyDescriptor:\n",
    "    def __init__(self, initial_value=None, name=\"my_var\"):\n",
    "        self.var_name = name\n",
    "        self.value = initial_value\n",
    "    def __get__(self, obj, objtype):\n",
    "        print('Getting', self.var_name)\n",
    "        return self.value\n",
    "    def __set__(self, obj, value):\n",
    "        msg = 'Setting {name} to {value}'\n",
    "        print(msg.format(name=self.var_name, value=value))\n",
    "        self.value = value\n",
    "\n",
    "class MyClass():\n",
    "    desc = MyDescriptor(initial_value='Mike', name='desc')\n",
    "    normal = 10\n",
    "\n",
    "if __name__ == '__main__':\n",
    "    c = MyClass()\n",
    "    print(c.desc)\n",
    "    print(c.normal)\n",
    "    c.desc = 100\n",
    "    print(c.desc)"
   ]
  },
  {
   "cell_type": "code",
   "execution_count": null,
   "id": "698d8088-fafc-42de-938e-cbdac372d6b2",
   "metadata": {},
   "outputs": [],
   "source": [
    "import hashlib\n",
    "md5 = hashlib.md5()\n",
    "\n",
    "md5.update(b'Python rocks!')\n",
    "print(md5.digest())"
   ]
  },
  {
   "cell_type": "code",
   "execution_count": null,
   "id": "7b24a3c8-ef07-4061-95fd-289294c67d1d",
   "metadata": {},
   "outputs": [],
   "source": [
    "import hashlib\n",
    "md5 = hashlib.md5()\n",
    "\n",
    "print (md5.hexdigest())\n"
   ]
  },
  {
   "cell_type": "code",
   "execution_count": null,
   "id": "87f248a7-876d-4e03-bd39-9b08c996b549",
   "metadata": {},
   "outputs": [],
   "source": [
    "import hashlib\n",
    "sha = hashlib.sha1(b'Hello Python').hexdigest()\n",
    "print (sha)"
   ]
  },
  {
   "cell_type": "code",
   "execution_count": null,
   "id": "02bcde78-883c-410a-8ea5-ba5dd75178bd",
   "metadata": {},
   "outputs": [],
   "source": [
    "### scopes ###\n",
    "\n",
    "x = 10\n",
    "def my_func(a, b):\n",
    "    print(x)\n",
    "    # print(y)\n",
    "my_func(1, 2)"
   ]
  },
  {
   "cell_type": "code",
   "execution_count": null,
   "id": "8865a71c-bdd2-4b26-b6ef-79a990b69173",
   "metadata": {},
   "outputs": [],
   "source": [
    "print('global space')\n",
    "def my_func(a, b):\n",
    "    i = 2\n",
    "    print(x)\n",
    "\n",
    "if __name__ == '__main__':\n",
    "    x = 10\n",
    "    my_func(1, 2)\n",
    "    print(i)"
   ]
  },
  {
   "cell_type": "code",
   "execution_count": null,
   "id": "3991f4c5-51c0-46c8-97fb-86cd8c3b040d",
   "metadata": {},
   "outputs": [],
   "source": [
    "def my_func(a, b):\n",
    "    print(x)\n",
    "    x = 5\n",
    "    print(x)\n",
    "\n",
    "if __name__ == '__main__':\n",
    "    x = 10\n",
    "    my_func(1, 2)\n",
    "    print(x)"
   ]
  },
  {
   "cell_type": "code",
   "execution_count": null,
   "id": "7e4ddd55-bd4e-4cb7-91cb-ac9e5dd3ba72",
   "metadata": {},
   "outputs": [],
   "source": [
    "def my_func(a, b):\n",
    "    global x\n",
    "    print(x)\n",
    "    x = 5\n",
    "    print(x)\n",
    "\n",
    "if __name__ == '__main__':\n",
    "    x = 10\n",
    "    my_func(1, 2)\n",
    "    print(x)"
   ]
  },
  {
   "cell_type": "code",
   "execution_count": null,
   "id": "80c78078-b3b5-45be-98b5-479898618239",
   "metadata": {},
   "outputs": [],
   "source": [
    "def my_func(a, b):\n",
    "    global c\n",
    "    # swap a and b\n",
    "    b, a = a, b\n",
    "    d = 'Mike'\n",
    "    print(a, b, c, d)\n",
    "\n",
    "a, b, c, d = 1, 2, 'c is global', 4\n",
    "my_func(1, 2)\n",
    "print(a, b, c, d)"
   ]
  },
  {
   "cell_type": "code",
   "execution_count": null,
   "id": "a123499f-a387-4d6d-a85e-0f0ff4e508b0",
   "metadata": {},
   "outputs": [],
   "source": [
    "def counter():\n",
    "    num = 0\n",
    "    def incrementer():\n",
    "        nonlocal num\n",
    "        num += 1\n",
    "        return num\n",
    "    return incrementer\n",
    "c = counter()\n",
    "\n",
    "print (c)\n",
    "print (c())\n",
    "print (c())\n",
    "print (c())"
   ]
  },
  {
   "cell_type": "code",
   "execution_count": null,
   "id": "e557950d-019c-469b-8774-db96387362c5",
   "metadata": {},
   "outputs": [],
   "source": [
    "import requests\n",
    "from bs4 import BeautifulSoup\n",
    "\n",
    "url = 'http://www.blog.pythonlibrary.org/'\n",
    "\n",
    "def get_articles():\n",
    "    \"\"\"\n",
    "    Get the articles from the front page of the blog\n",
    "    \"\"\"\n",
    "    req = requests.get(url)\n",
    "    html = req.text\n",
    "    soup = BeautifulSoup(html, 'html.parser')\n",
    "    pages = soup.findAll('h1')\n",
    "\n",
    "    articles = {i.a['href']: i.text.strip()\n",
    "                for i in pages if i.a}\n",
    "    \n",
    "    for article in articles:\n",
    "        s = '{title}: {url}'.format(title=articles[article].encode('utf-8'),url=article)\n",
    "        print(s)\n",
    "\n",
    "    return articles\n",
    "\n",
    "if __name__ == '__main__':\n",
    "    articles = get_articles()\n",
    "\n",
    "# import requests\n",
    "# from bs4 import BeautifulSoup\n",
    "\n",
    "# URL = \"https://realpython.github.io/fake-jobs/\"\n",
    "# page = requests.get(URL)\n",
    "# soup = BeautifulSoup(page.content, \"html.parser\")\n",
    "# results = soup.find(id=\"ResultsContainer\")\n",
    "# job_elements = results.find_all(\"div\", class_=\"card-content\")\n",
    "# # print(results.prettify())\n",
    "# for job_element in job_elements:\n",
    "#     title_element = job_element.find(\"h2\", class_=\"title\")\n",
    "#     company_element = job_element.find(\"h3\", class_=\"company\")\n",
    "#     location_element = job_element.find(\"p\", class_=\"location\")\n",
    "#     print(title_element.text)\n",
    "#     print(company_element.text)\n",
    "#     print(location_element.text)\n",
    "#     print()"
   ]
  },
  {
   "cell_type": "code",
   "execution_count": null,
   "id": "347a12d3-9bfb-4c4e-9288-9a2eb6a393b7",
   "metadata": {},
   "outputs": [],
   "source": [
    "pip install bs4\n"
   ]
  },
  {
   "cell_type": "code",
   "execution_count": null,
   "id": "4f67e27e-e231-4d47-906b-f2e251e34cc5",
   "metadata": {},
   "outputs": [],
   "source": [
    "pip install wikipedia"
   ]
  },
  {
   "cell_type": "code",
   "execution_count": null,
   "id": "adc34cd3-b179-49f0-b315-2d5815827e0b",
   "metadata": {},
   "outputs": [],
   "source": [
    "import wikipedia\n",
    "\n",
    "results = wikipedia.summary('Python (programming language)')\n",
    "print(results)"
   ]
  },
  {
   "cell_type": "code",
   "execution_count": null,
   "id": "4093020c-7fd5-427f-8247-035d71274fc7",
   "metadata": {},
   "outputs": [],
   "source": [
    "pip list"
   ]
  },
  {
   "cell_type": "code",
   "execution_count": null,
   "id": "91db1fbc-3094-4358-a563-79987366fbbe",
   "metadata": {},
   "outputs": [],
   "source": [
    "import wikipedia\n",
    "\n",
    "\n",
    "def print_wikipedia_results(word):\n",
    "    \"\"\"\n",
    "    Searches for pages that match the specified word\n",
    "    \"\"\"\n",
    "    results = wikipedia.search(word)\n",
    "\n",
    "    for result in results:\n",
    "        try:\n",
    "            page = wikipedia.page(result)\n",
    "        except wikipedia.exceptions.DisambiguationError:\n",
    "            print('DisambiguationError')\n",
    "            continue\n",
    "        except wikipedia.exceptions.PageError:\n",
    "            print('PageError for result: ' + result)\n",
    "            continue\n",
    "\n",
    "        print(page.summary.encode('utf-8'))\n",
    "\n",
    "if __name__ == '__main__':\n",
    "    results = wikipedia.summary('Python (programming language)')\n",
    "    print(results)\n",
    "    print_wikipedia_results('wombat')"
   ]
  },
  {
   "cell_type": "code",
   "execution_count": null,
   "id": "705c2b76-7c7c-431a-9a85-f206aee72691",
   "metadata": {},
   "outputs": [],
   "source": [
    "from urllib.parse import *\n",
    "parse_url = urlparse('https://www.geeksforgeeks.org/python-langtons-ant/sai')\n",
    "print(parse_url)\n",
    "print('\\n')\n",
    "unparse_url = urlunparse(parse_url)\n",
    "print(unparse_url)"
   ]
  },
  {
   "cell_type": "code",
   "execution_count": null,
   "id": "13c0d4df-1fbf-4076-8951-18ee573b50e3",
   "metadata": {},
   "outputs": [],
   "source": [
    "url_split = urlsplit('https://www.geeksforgeeks.org')\n",
    "print(url_split)"
   ]
  },
  {
   "cell_type": "code",
   "execution_count": null,
   "id": "218d1d5e-9cb7-44b1-98d0-e064c48c95b9",
   "metadata": {},
   "outputs": [],
   "source": [
    "from urllib import request\n",
    "a = request.urlopen('https://www.geeksforgeeks.org')\n",
    "print(a.read())"
   ]
  },
  {
   "cell_type": "code",
   "execution_count": null,
   "id": "321ea681-dd0c-4c9b-a845-f19966b0df75",
   "metadata": {},
   "outputs": [],
   "source": [
    "import os\n",
    "os.getcwd()"
   ]
  },
  {
   "cell_type": "code",
   "execution_count": null,
   "id": "d25c517c-5dfb-428e-a31c-507d87f78745",
   "metadata": {},
   "outputs": [],
   "source": [
    "with open('abc.txt', 'w') as f:\n",
    "    f.write('hello world')\n",
    "    f.close()"
   ]
  },
  {
   "cell_type": "code",
   "execution_count": null,
   "id": "82351431-6466-4e9b-8ca0-86d21c05d42f",
   "metadata": {},
   "outputs": [],
   "source": [
    "cat abc.txt"
   ]
  },
  {
   "cell_type": "code",
   "execution_count": null,
   "id": "ddd74e6a-ac36-4fab-ab90-1ab71b73dbac",
   "metadata": {},
   "outputs": [],
   "source": [
    "## regular expressions ##\n",
    "import re\n",
    "txt = 'The rain in Spain'\n",
    "x = re.search('^The.*Spain$', txt)\n",
    "if x:\n",
    "    print('YES! We have a match!')\n",
    "else:\n",
    "    print('No Match')"
   ]
  },
  {
   "cell_type": "code",
   "execution_count": null,
   "id": "604e4dda-5bd5-4b6e-84c7-7c74ecf63e94",
   "metadata": {},
   "outputs": [],
   "source": [
    "x = re.findall('ai', txt)\n",
    "print(x)"
   ]
  },
  {
   "cell_type": "code",
   "execution_count": null,
   "id": "87f19c74-568d-4aac-b388-8b4321e85978",
   "metadata": {},
   "outputs": [],
   "source": [
    "x = re.findall('arwe', txt)\n",
    "print(x)"
   ]
  },
  {
   "cell_type": "code",
   "execution_count": null,
   "id": "4e8ff4dd-4d58-43af-8c2f-c5be6caa5f7c",
   "metadata": {},
   "outputs": [],
   "source": [
    "x = re.search('\\s', txt)\n",
    "print('the first white-space character is located in position:', x.start())"
   ]
  },
  {
   "cell_type": "code",
   "execution_count": null,
   "id": "3f7c8770-fb3c-4391-98db-c6c3d5345468",
   "metadata": {},
   "outputs": [],
   "source": [
    "x = re.search('portugal', txt)\n",
    "print(x)"
   ]
  },
  {
   "cell_type": "code",
   "execution_count": null,
   "id": "62db8f97-b5cf-4295-af18-b3e19412087b",
   "metadata": {},
   "outputs": [],
   "source": [
    "x = re.split('\\s', txt)\n",
    "print(x)"
   ]
  },
  {
   "cell_type": "code",
   "execution_count": null,
   "id": "5eff9bc1-caf9-4b7a-94d7-fff71a414d9a",
   "metadata": {},
   "outputs": [],
   "source": [
    "x = re.split('\\s', txt, 1)\n",
    "print(x)"
   ]
  },
  {
   "cell_type": "code",
   "execution_count": null,
   "id": "90b5504f-8f9c-467b-bf12-d44e779cb6ee",
   "metadata": {},
   "outputs": [],
   "source": [
    "x = re.sub('\\s', '9', txt)\n",
    "print(x)"
   ]
  },
  {
   "cell_type": "code",
   "execution_count": null,
   "id": "038357c0-4380-492e-bfc8-b6d0096f0280",
   "metadata": {},
   "outputs": [],
   "source": [
    "x = re.sub('\\s', '9', txt, 2)\n",
    "print(x)"
   ]
  },
  {
   "cell_type": "code",
   "execution_count": null,
   "id": "9d25f502-1b7d-4998-aaa4-4684802d090b",
   "metadata": {},
   "outputs": [],
   "source": [
    "txt = 'abc'\n",
    "x = re.search('^a.{1}c$', txt)\n",
    "if x:\n",
    "    print('got it')\n",
    "else:\n",
    "    print('not regular expression')"
   ]
  },
  {
   "cell_type": "code",
   "execution_count": null,
   "id": "e3741b51-5c76-402d-901c-247172c1a57d",
   "metadata": {},
   "outputs": [],
   "source": [
    "text = 'The ants go marching one by one'\n",
    "strings = ['the', 'one']\n",
    "for string in strings:\n",
    "    match = re.search(string, text)\n",
    "    if match:\n",
    "        print('Found \"{}\" in \"{}\"'.format(string, text))\n",
    "        text_pos = match.span()\n",
    "        print(text_pos)\n",
    "        print(text[match.start():match.end()])\n",
    "    else:\n",
    "        print('Did not find \"{}\"'.format(string))"
   ]
  },
  {
   "cell_type": "code",
   "execution_count": null,
   "id": "1c7afcfb-70dc-48e7-b9bf-16ef11008819",
   "metadata": {},
   "outputs": [],
   "source": [
    "import re\n",
    "\n",
    "re.compile('''[\\w\\.-]+ # the user name @ [\\w\\.-]+' # the domain''', re.VERBOSE)"
   ]
  },
  {
   "cell_type": "code",
   "execution_count": null,
   "id": "4162b788-3a43-40d7-a9ee-26f2d8bd2a4f",
   "metadata": {},
   "outputs": [],
   "source": [
    "print(any([0, 0, 0, 1]))"
   ]
  },
  {
   "cell_type": "code",
   "execution_count": null,
   "id": "07fec54f-3a7b-4e9b-bc68-42d8b87a7ee7",
   "metadata": {},
   "outputs": [],
   "source": [
    "## enumerate ##\n",
    "a = 'helloworld'\n",
    "for pos, letter in enumerate(a):\n",
    "    print(pos, letter)"
   ]
  },
  {
   "cell_type": "code",
   "execution_count": null,
   "id": "6cc2b068-b179-4272-b658-a29e2152643f",
   "metadata": {},
   "outputs": [],
   "source": [
    "### eval ###\n",
    "var = 2\n",
    "source = 'var*2'\n",
    "print(eval(source))"
   ]
  },
  {
   "cell_type": "code",
   "execution_count": null,
   "id": "7c06fd3c-f042-4441-b706-ca29c664859c",
   "metadata": {},
   "outputs": [],
   "source": [
    "### map ###\n",
    "a = [1, 2, 3, 4, 5]\n",
    "list(map(lambda n: n * 2, a))"
   ]
  },
  {
   "cell_type": "code",
   "execution_count": null,
   "id": "de8b7848-1276-42ec-b5f5-082f07594b1e",
   "metadata": {},
   "outputs": [],
   "source": [
    "### filter ###\n",
    "list(filter(lambda n: n > 2, a))"
   ]
  },
  {
   "cell_type": "code",
   "execution_count": null,
   "id": "45364b1b-d765-4ab5-a82d-2a8144eea63d",
   "metadata": {},
   "outputs": [],
   "source": [
    "### zip ###\n",
    "keys = ['w', 'x', 'y', 'z']\n",
    "values = [5, 6, 7]\n",
    "print(zip(keys, values))\n",
    "print(list(zip(keys, values)))"
   ]
  },
  {
   "cell_type": "code",
   "execution_count": null,
   "id": "e27da508-d758-49ec-8834-8e38ce258635",
   "metadata": {},
   "outputs": [],
   "source": [
    "with open('abc.txt', 'r') as f:\n",
    "    a = f.read()\n",
    "    print(a)\n",
    "    f.close()"
   ]
  },
  {
   "cell_type": "code",
   "execution_count": null,
   "id": "28833adf-82d3-4d6b-917d-0cbe0404b436",
   "metadata": {},
   "outputs": [],
   "source": [
    "with open('abc.txt', 'a+') as f:\n",
    "    # f.write('\\nhelloworld')\n",
    "    a = f.read()\n",
    "    print(a)\n",
    "    f.close()"
   ]
  },
  {
   "cell_type": "code",
   "execution_count": 29,
   "id": "5eba04b5-fb8d-4619-b48c-1bf7715dac99",
   "metadata": {},
   "outputs": [
    {
     "data": {
      "text/plain": [
       "['iterators and generators',\n",
       " 'importlib',\n",
       " 'serialization',\n",
       " 'intro to argument parsing using argparse',\n",
       " 'functools',\n",
       " 'scope',\n",
       " 'itertools',\n",
       " 'encryption and cryptography',\n",
       " 'descriptors',\n",
       " 'super built-in',\n",
       " 'Untitled.ipynb',\n",
       " 'collection',\n",
       " 'imports',\n",
       " '.ipynb_checkpoints',\n",
       " 'web scraping',\n",
       " 'databases',\n",
       " '__init__.py',\n",
       " 'regular expression',\n",
       " 'context managers',\n",
       " 'files',\n",
       " 'python built-ins',\n",
       " 'abc.txt']"
      ]
     },
     "execution_count": 29,
     "metadata": {},
     "output_type": "execute_result"
    }
   ],
   "source": [
    "os.listdir()"
   ]
  },
  {
   "cell_type": "code",
   "execution_count": 33,
   "id": "7e64919f-ffbd-402e-aa9e-23f40a2e3381",
   "metadata": {},
   "outputs": [
    {
     "data": {
      "text/plain": [
       "'/home/saidg/Desktop/python-course/advanced concepts/test'"
      ]
     },
     "execution_count": 33,
     "metadata": {},
     "output_type": "execute_result"
    }
   ],
   "source": [
    "os.chdir('./test')\n",
    "os.getcwd()"
   ]
  },
  {
   "cell_type": "code",
   "execution_count": 34,
   "id": "3f2b30c6-7388-4216-a720-1c52b6b704e0",
   "metadata": {},
   "outputs": [],
   "source": [
    "os.mkdir('sai')"
   ]
  },
  {
   "cell_type": "code",
   "execution_count": 35,
   "id": "2f10cc53-8507-4edf-8917-53a9d91dbfbd",
   "metadata": {},
   "outputs": [
    {
     "data": {
      "text/plain": [
       "['sai']"
      ]
     },
     "execution_count": 35,
     "metadata": {},
     "output_type": "execute_result"
    }
   ],
   "source": [
    "os.listdir()"
   ]
  },
  {
   "cell_type": "code",
   "execution_count": 36,
   "id": "12581ced-e4e3-4f11-b1b1-96ddd38d1c8b",
   "metadata": {},
   "outputs": [],
   "source": [
    "os.rename('sai', 'dharaneesh')"
   ]
  },
  {
   "cell_type": "code",
   "execution_count": 37,
   "id": "2ec57118-db71-4963-8c39-5858fe805395",
   "metadata": {},
   "outputs": [
    {
     "data": {
      "text/plain": [
       "['dharaneesh']"
      ]
     },
     "execution_count": 37,
     "metadata": {},
     "output_type": "execute_result"
    }
   ],
   "source": [
    "os.listdir()"
   ]
  },
  {
   "cell_type": "code",
   "execution_count": 38,
   "id": "3735f0b7-5811-4a58-ab1a-b09e96aa51b5",
   "metadata": {},
   "outputs": [],
   "source": [
    "os.mkdir('sai')"
   ]
  },
  {
   "cell_type": "code",
   "execution_count": 39,
   "id": "d3f90a7b-67e7-4635-9425-375d8e3a1acd",
   "metadata": {},
   "outputs": [
    {
     "data": {
      "text/plain": [
       "['sai', 'dharaneesh']"
      ]
     },
     "execution_count": 39,
     "metadata": {},
     "output_type": "execute_result"
    }
   ],
   "source": [
    "os.listdir()"
   ]
  },
  {
   "cell_type": "code",
   "execution_count": 40,
   "id": "0fcfe7d1-8b68-400a-a2e4-d1ae0e844aac",
   "metadata": {},
   "outputs": [
    {
     "data": {
      "text/plain": [
       "['dharaneesh']"
      ]
     },
     "execution_count": 40,
     "metadata": {},
     "output_type": "execute_result"
    }
   ],
   "source": [
    "os.rmdir('sai')\n",
    "os.listdir()"
   ]
  },
  {
   "cell_type": "code",
   "execution_count": 42,
   "id": "47c35d45-309a-403f-b7d8-e13442561274",
   "metadata": {},
   "outputs": [
    {
     "data": {
      "text/plain": [
       "['dharaneesh', 'abc.txt']"
      ]
     },
     "execution_count": 42,
     "metadata": {},
     "output_type": "execute_result"
    }
   ],
   "source": [
    "f = open('abc.txt', 'w')\n",
    "f.close()\n",
    "os.listdir()"
   ]
  },
  {
   "cell_type": "code",
   "execution_count": 43,
   "id": "f0abc31b-e92f-4871-a6d4-1ce479424c36",
   "metadata": {},
   "outputs": [],
   "source": [
    "os.remove('abc.txt')"
   ]
  },
  {
   "cell_type": "code",
   "execution_count": 44,
   "id": "bb849590-eeff-4cb1-be60-20ca8280f40b",
   "metadata": {},
   "outputs": [
    {
     "data": {
      "text/plain": [
       "['dharaneesh']"
      ]
     },
     "execution_count": 44,
     "metadata": {},
     "output_type": "execute_result"
    }
   ],
   "source": [
    "os.listdir()"
   ]
  },
  {
   "cell_type": "code",
   "execution_count": 61,
   "id": "be6cf993-3d0c-4ab3-9734-a6a151cf0c37",
   "metadata": {},
   "outputs": [
    {
     "data": {
      "text/plain": [
       "['def', 'test.pickle', 'xyz', 'ghi', 'abc']"
      ]
     },
     "execution_count": 61,
     "metadata": {},
     "output_type": "execute_result"
    }
   ],
   "source": [
    "dirs = ['xyz', 'abc', 'def', 'ghi']\n",
    "for dir in dirs:\n",
    "    os.mkdir(dir)\n",
    "os.listdir()"
   ]
  },
  {
   "cell_type": "code",
   "execution_count": 49,
   "id": "68814edc-e21f-4592-82f0-77531a843a69",
   "metadata": {},
   "outputs": [],
   "source": [
    "import pickle\n",
    "test_dict = {'hello': 'World!'}\n",
    "with open('test.pickle', 'wb') as outfile:\n",
    "          pickle.dump(test_dict, outfile)"
   ]
  },
  {
   "cell_type": "code",
   "execution_count": 62,
   "id": "7f3a38fa-62c7-4776-8ca3-d506fec073a1",
   "metadata": {},
   "outputs": [
    {
     "data": {
      "text/plain": [
       "['def', 'test.pickle', 'xyz', 'ghi', 'abc']"
      ]
     },
     "execution_count": 62,
     "metadata": {},
     "output_type": "execute_result"
    }
   ],
   "source": [
    "os.listdir()"
   ]
  },
  {
   "cell_type": "code",
   "execution_count": 63,
   "id": "b3a716cc-0a73-460b-a86f-3f1cafaec200",
   "metadata": {},
   "outputs": [
    {
     "name": "stdout",
     "output_type": "stream",
     "text": [
      "reconstructed object {'hello': 'World!'}\n"
     ]
    }
   ],
   "source": [
    "with open('test.pickle', 'rb') as infile:\n",
    "    test_dict_reconstructed = pickle.load(infile)\n",
    "    print('reconstructed object', test_dict_reconstructed)"
   ]
  },
  {
   "cell_type": "code",
   "execution_count": 64,
   "id": "0ad254c2-3a15-49ea-9740-a3eccdc06b29",
   "metadata": {},
   "outputs": [
    {
     "name": "stdout",
     "output_type": "stream",
     "text": [
      "reconstruction success\n"
     ]
    }
   ],
   "source": [
    "if test_dict == test_dict_reconstructed:\n",
    "    print('reconstruction success')"
   ]
  },
  {
   "cell_type": "code",
   "execution_count": 65,
   "id": "dfb05e14-c9a6-49fe-a0cc-25d3ff3292fd",
   "metadata": {},
   "outputs": [],
   "source": [
    "test_dict_ba = pickle.dumps(test_dict)\n",
    "test_dict_reconstructed_ba = pickle.loads(test_dict_ba)"
   ]
  },
  {
   "cell_type": "code",
   "execution_count": 66,
   "id": "28287da0-7f9c-4c96-9a85-20542d052310",
   "metadata": {},
   "outputs": [
    {
     "name": "stdout",
     "output_type": "stream",
     "text": [
      "1\n",
      "Data from reconstructed object: 1\n"
     ]
    }
   ],
   "source": [
    "import pickle\n",
    "\n",
    "class NewClass:\n",
    "    def __init__(self, data):\n",
    "        print(data)\n",
    "        self.data = data\n",
    "\n",
    "new_class = NewClass(1)\n",
    "pickled_data = pickle.dumps(new_class)\n",
    "reconstructed = pickle.loads(pickled_data)\n",
    "print('Data from reconstructed object:', reconstructed.data)"
   ]
  },
  {
   "cell_type": "code",
   "execution_count": 69,
   "id": "4d318da5-b311-4a3c-a6f4-93648345ee4f",
   "metadata": {},
   "outputs": [
    {
     "name": "stdout",
     "output_type": "stream",
     "text": [
      "1\n",
      "0\n"
     ]
    }
   ],
   "source": [
    "### Puzzles ###\n",
    "#1\n",
    "## p1.count is called with object creation so it is 1\n",
    "## Player.count is called without object creation so it is 0\n",
    "class Player:\n",
    "    count = 0\n",
    "    def __init__(self, name):\n",
    "        self.name = name\n",
    "        self.count += 1\n",
    "\n",
    "p1 = Player('sai')\n",
    "print(p1.count)\n",
    "print(Player.count)"
   ]
  },
  {
   "cell_type": "code",
   "execution_count": 70,
   "id": "a29ba615-bd3c-4b01-8cab-627b97cd0a2b",
   "metadata": {},
   "outputs": [
    {
     "ename": "TypeError",
     "evalue": "'<' not supported between instances of 'str' and 'int'",
     "output_type": "error",
     "traceback": [
      "\u001b[0;31m---------------------------------------------------------------------------\u001b[0m",
      "\u001b[0;31mTypeError\u001b[0m                                 Traceback (most recent call last)",
      "Input \u001b[0;32mIn [70]\u001b[0m, in \u001b[0;36m<cell line: 10>\u001b[0;34m()\u001b[0m\n\u001b[1;32m      8\u001b[0m heappush(tasks, (\u001b[38;5;241m40\u001b[39m, \u001b[38;5;124m'\u001b[39m\u001b[38;5;124mwrite book\u001b[39m\u001b[38;5;124m'\u001b[39m))\n\u001b[1;32m     10\u001b[0m \u001b[38;5;28;01mwhile\u001b[39;00m tasks:\n\u001b[0;32m---> 11\u001b[0m     _, payload \u001b[38;5;241m=\u001b[39m \u001b[43mheappop\u001b[49m\u001b[43m(\u001b[49m\u001b[43mtasks\u001b[49m\u001b[43m)\u001b[49m\n\u001b[1;32m     12\u001b[0m     \u001b[38;5;28mprint\u001b[39m(payload)\n",
      "\u001b[0;31mTypeError\u001b[0m: '<' not supported between instances of 'str' and 'int'"
     ]
    }
   ],
   "source": [
    "# A Task to Do\n",
    "# comparing 'feed cat'(string) with '0xCAFFE'(int) raises an exception\n",
    "\n",
    "from heapq import heappush, heappop\n",
    "\n",
    "tasks = []\n",
    "heappush(tasks, (30, 'work out'))\n",
    "heappush(tasks, (10, 'wake up'))\n",
    "heappush(tasks, (20, 0xCAFFE))\n",
    "heappush(tasks, (20, 'feed cat'))\n",
    "heappush(tasks, (40, 'write book'))\n",
    "\n",
    "while tasks:\n",
    "    _, payload = heappop(tasks)\n",
    "    print(payload)\n"
   ]
  },
  {
   "cell_type": "code",
   "execution_count": 72,
   "id": "96380c13-4e2f-4dc9-8df2-f470a8989796",
   "metadata": {},
   "outputs": [
    {
     "name": "stdout",
     "output_type": "stream",
     "text": [
      "0\n",
      " 1 2 "
     ]
    }
   ],
   "source": [
    "from threading import Thread\n",
    "from time import sleep\n",
    "\n",
    "def printer():\n",
    "    for i in range(3):\n",
    "        print(i, end=' ')\n",
    "        sleep(0.1)\n",
    "thr = Thread(target=printer, daemon=True)\n",
    "thr.start()\n",
    "print()"
   ]
  },
  {
   "cell_type": "code",
   "execution_count": 9,
   "id": "da2c08b0-08a3-487d-bd76-b65317ccf998",
   "metadata": {
    "tags": []
   },
   "outputs": [
    {
     "name": "stdout",
     "output_type": "stream",
     "text": [
      "Thread-20\n",
      "Thread-21\n",
      "\n",
      "4\n",
      "\n",
      "Thread-22\n",
      "\n",
      "6\n",
      "\n",
      "\n",
      "2\n",
      "\n",
      "Thread-23\n",
      "\n",
      "8\n",
      "\n",
      "Thread-24\n",
      "\n",
      "10\n",
      "\n"
     ]
    }
   ],
   "source": [
    "import threading\n",
    "\n",
    "\n",
    "def doubler(number):\n",
    "    print(threading.currentThread().getName() + '\\n')\n",
    "    print(number * 2)\n",
    "    print()\n",
    "if __name__ == '__main__':\n",
    "    for i in range(5):\n",
    "        my_thread = threading.Thread(target=doubler, args=(i + 1, ))\n",
    "        my_thread.start()"
   ]
  },
  {
   "cell_type": "code",
   "execution_count": 12,
   "id": "ebc83d4e-6fdd-416a-ae3d-0bc1e2339543",
   "metadata": {},
   "outputs": [],
   "source": [
    "import logging\n",
    "import threading\n",
    "\n",
    "def get_logger():\n",
    "    logger = logging.getLogger('threading_example')\n",
    "    logger.setLevel(logging.DEBUG)\n",
    "    \n",
    "    fh = logging.FileHandler('threading.log')\n",
    "    fmt = '%(asctime)s - %(threadName)s - %(levelname)s - %(message)s'\n",
    "    formatter = logging.Formatter(fmt)\n",
    "    fh.setFormatter(formatter)\n",
    "    \n",
    "    logger.addHandler(fh)\n",
    "    return logger\n",
    "\n",
    "def doubler(number, logger):\n",
    "    logger.debug('doubler function executing')\n",
    "    result = number * 2\n",
    "    logger.debug('doubler function ended with: {}'.format(result))\n",
    "\n",
    "if __name__ == '__main__':\n",
    "    logger = get_logger()\n",
    "    thread_names = ['Mike', 'George', 'Wanda', 'Dingbat', 'Nina']\n",
    "    for i in range(5):\n",
    "        my_thread = threading.Thread(target=doubler, name=thread_names[i], args=(i, logger))\n",
    "        my_thread.start()"
   ]
  },
  {
   "cell_type": "code",
   "execution_count": 22,
   "id": "802058d0-9486-4ff8-9be0-97b8bff24259",
   "metadata": {},
   "outputs": [
    {
     "name": "stdout",
     "output_type": "stream",
     "text": [
      "5\n",
      "10\n",
      "15\n",
      "20\n",
      "25\n",
      "30\n",
      "35\n",
      "40\n",
      "45\n",
      "50\n"
     ]
    }
   ],
   "source": [
    "import threading\n",
    "\n",
    "total = 0\n",
    "lock = threading.Lock()\n",
    "\n",
    "def update_total(amount):\n",
    "    global total\n",
    "    with lock:\n",
    "        total += amount\n",
    "    print(total)\n",
    "if __name__ == '__main__':\n",
    "    for i in range(10):\n",
    "        my_thread = threading.Thread(target=update_total, args=(5,))\n",
    "        my_thread.start()"
   ]
  },
  {
   "cell_type": "code",
   "execution_count": 24,
   "id": "aae7f715-13b4-4abc-905e-59c69d609898",
   "metadata": {},
   "outputs": [
    {
     "name": "stdout",
     "output_type": "stream",
     "text": [
      "Lock acquired in the do_something function\n",
      "Lock released in the do_something function\n",
      "Lock acquired in the do_something_else function\n",
      "Lock released in the do_something-else function\n",
      "Done doing something\n",
      "Finished something else\n"
     ]
    }
   ],
   "source": [
    "import threading\n",
    "\n",
    "total = 0\n",
    "lock = threading.Lock()\n",
    "\n",
    "def do_something():\n",
    "    lock.acquire()\n",
    "    \n",
    "    try:\n",
    "        print('Lock acquired in the do_something function')\n",
    "    finally:\n",
    "        lock.release()\n",
    "        print('Lock released in the do_something function')\n",
    "    return 'Done doing something'\n",
    "def do_something_else():\n",
    "    lock.acquire()\n",
    "    try:\n",
    "        print('Lock acquired in the do_something_else function')\n",
    "    finally:\n",
    "        lock.release()\n",
    "        print('Lock released in the do_something-else function')\n",
    "    return 'Finished something else'\n",
    "\n",
    "if __name__ == '__main__':\n",
    "    result_one = do_something()\n",
    "    result_two = do_something_else()\n",
    "    print(result_one)\n",
    "    print(result_two)\n",
    "    "
   ]
  },
  {
   "cell_type": "code",
   "execution_count": 25,
   "id": "5a38236a-5937-4c9a-bb76-64ff47894368",
   "metadata": {},
   "outputs": [
    {
     "name": "stdout",
     "output_type": "stream",
     "text": [
      "b'PING www.google.com (142.250.77.164) 56(84) bytes of data.\\n64 bytes from maa05s17-in-f4.1e100.net (142.250.77.164): icmp_seq=1 ttl=115 time=39.6 ms\\n64 bytes from maa05s17-in-f4.1e100.net (142.250.77.164): icmp_seq=2 ttl=115 time=41.0 ms\\n64 bytes from maa05s17-in-f4.1e100.net (142.250.77.164): icmp_seq=3 ttl=115 time=40.7 ms\\n64 bytes from maa05s17-in-f4.1e100.net (142.250.77.164): icmp_seq=4 ttl=115 time=90.7 ms\\n64 bytes from maa05s17-in-f4.1e100.net (142.250.77.164): icmp_seq=5 ttl=115 time=41.0 ms\\n'\n"
     ]
    }
   ],
   "source": [
    "import subprocess\n",
    "\n",
    "from threading import Timer\n",
    "\n",
    "kill = lambda process: process.kill()\n",
    "cmd = ['ping', 'www.google.com']\n",
    "ping = subprocess.Popen(cmd, stdout=subprocess.PIPE, stderr=subprocess.PIPE)\n",
    "my_timer = Timer(5, kill, [ping])\n",
    "\n",
    "try:\n",
    "    my_timer.start()\n",
    "    stdout, stderr = ping.communicate()\n",
    "finally:\n",
    "    my_timer.cancel()\n",
    "print(str(stdout))"
   ]
  },
  {
   "cell_type": "code",
   "execution_count": null,
   "id": "35b34741-fd97-46af-90f5-11f5ea3a2783",
   "metadata": {},
   "outputs": [],
   "source": []
  }
 ],
 "metadata": {
  "kernelspec": {
   "display_name": "Python 3 (ipykernel)",
   "language": "python",
   "name": "python3"
  },
  "language_info": {
   "codemirror_mode": {
    "name": "ipython",
    "version": 3
   },
   "file_extension": ".py",
   "mimetype": "text/x-python",
   "name": "python",
   "nbconvert_exporter": "python",
   "pygments_lexer": "ipython3",
   "version": "3.9.12"
  }
 },
 "nbformat": 4,
 "nbformat_minor": 5
}
